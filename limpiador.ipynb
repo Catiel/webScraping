{
 "cells": [
  {
   "cell_type": "code",
   "id": "initial_id",
   "metadata": {
    "collapsed": true,
    "ExecuteTime": {
     "end_time": "2024-04-10T18:23:28.507597Z",
     "start_time": "2024-04-10T18:23:28.460716Z"
    }
   },
   "source": [
    "import pandas as pd\n",
    "import numpy as np"
   ],
   "outputs": [],
   "execution_count": 83
  },
  {
   "metadata": {
    "ExecuteTime": {
     "end_time": "2024-04-10T18:23:28.558644Z",
     "start_time": "2024-04-10T18:23:28.511291Z"
    }
   },
   "cell_type": "code",
   "source": "df = pd.read_csv('property-listing-2024-04-09-12-52-11.csv')",
   "id": "713dd0e0447aeafe",
   "outputs": [],
   "execution_count": 84
  },
  {
   "metadata": {},
   "cell_type": "markdown",
   "source": "",
   "id": "397f497a58df2385"
  },
  {
   "metadata": {
    "ExecuteTime": {
     "end_time": "2024-04-10T18:23:28.591243Z",
     "start_time": "2024-04-10T18:23:28.558644Z"
    }
   },
   "cell_type": "code",
   "source": [
    "df['price'] = df['price'].replace('--', np.nan)\n",
    "df['price'] = pd.to_numeric(df['price'], errors='coerce')\n",
    "price_median = df['price'].median()\n",
    "df['price'] = df['price'].fillna(price_median)\n",
    "print(df['price'].isnull().sum())"
   ],
   "id": "58db5e243de531ee",
   "outputs": [
    {
     "name": "stdout",
     "output_type": "stream",
     "text": [
      "0\n"
     ]
    }
   ],
   "execution_count": 85
  },
  {
   "metadata": {
    "ExecuteTime": {
     "end_time": "2024-04-10T18:23:28.638141Z",
     "start_time": "2024-04-10T18:23:28.606867Z"
    }
   },
   "cell_type": "code",
   "source": [
    "# Limpiamos la columna 'features' para dividirla en 'bedrooms', 'bathrooms' y 'area_sqft'\n",
    "df[['bedrooms','bathrooms','area_sqft']] = df['features'].str.extract('(\\d+) bds, (\\d+) ba, ([\\d,]+) sqft')"
   ],
   "id": "af1e0e8dd08690f4",
   "outputs": [],
   "execution_count": 87
  },
  {
   "metadata": {
    "ExecuteTime": {
     "end_time": "2024-04-10T18:23:28.653890Z",
     "start_time": "2024-04-10T18:23:28.638141Z"
    }
   },
   "cell_type": "code",
   "source": [
    "# Convertimos las nuevas columnas a numéricas\n",
    "df['bedrooms'] = pd.to_numeric(df['bedrooms'], errors='coerce')\n",
    "# Reemplazamos los valores faltantes en la columna 'bathrooms' con 0\n",
    "df['bathrooms'] = pd.to_numeric(df['bathrooms'], errors='coerce').fillna(0)\n",
    "\n",
    "df['area_sqft'] = pd.to_numeric(df['area_sqft'].str.replace(',', ''), errors='coerce')"
   ],
   "id": "149202d78db5a768",
   "outputs": [],
   "execution_count": 88
  },
  {
   "metadata": {
    "ExecuteTime": {
     "end_time": "2024-04-10T18:23:28.669539Z",
     "start_time": "2024-04-10T18:23:28.653890Z"
    }
   },
   "cell_type": "code",
   "source": [
    "# Calculate the median of 'bedrooms', 'bathrooms', and 'area_sqft' columns\n",
    "bedrooms_median = df['bedrooms'].median()\n",
    "bathrooms_median = df['bathrooms'].median()\n",
    "area_sqft_median = df['area_sqft'].median()\n",
    "\n",
    "# Replace null or zero values in 'bedrooms', 'bathrooms', and 'area_sqft' columns with their respective median\n",
    "df['bedrooms'] = df['bedrooms'].replace([np.nan, 0], bedrooms_median)\n",
    "df['bathrooms'] = df['bathrooms'].replace([np.nan, 0], bathrooms_median)\n",
    "df['area_sqft'] = df['area_sqft'].replace([np.nan, 0], area_sqft_median)"
   ],
   "id": "ceb96512df2ff555",
   "outputs": [],
   "execution_count": 89
  },
  {
   "metadata": {
    "ExecuteTime": {
     "end_time": "2024-04-10T18:23:28.733271Z",
     "start_time": "2024-04-10T18:23:28.669539Z"
    }
   },
   "cell_type": "code",
   "source": [
    "# Eliminamos la columna 'features' ya que ya no la necesitamos\n",
    "df = df.drop(columns=['features'])"
   ],
   "id": "f0bd003352801837",
   "outputs": [],
   "execution_count": 90
  },
  {
   "metadata": {
    "ExecuteTime": {
     "end_time": "2024-04-10T18:23:28.832401Z",
     "start_time": "2024-04-10T18:23:28.777121Z"
    }
   },
   "cell_type": "code",
   "source": [
    "# Guardamos los datos limpios en un nuevo archivo CSV\n",
    "df.to_csv('cleaned_property_listing.csv', index=False)"
   ],
   "id": "4c2c04ddc2e86c90",
   "outputs": [],
   "execution_count": 91
  }
 ],
 "metadata": {
  "kernelspec": {
   "display_name": "Python 3",
   "language": "python",
   "name": "python3"
  },
  "language_info": {
   "codemirror_mode": {
    "name": "ipython",
    "version": 2
   },
   "file_extension": ".py",
   "mimetype": "text/x-python",
   "name": "python",
   "nbconvert_exporter": "python",
   "pygments_lexer": "ipython2",
   "version": "2.7.6"
  }
 },
 "nbformat": 4,
 "nbformat_minor": 5
}
